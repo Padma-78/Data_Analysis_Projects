{
 "cells": [
  {
   "cell_type": "code",
   "execution_count": 1,
   "id": "9a0e9d9f",
   "metadata": {},
   "outputs": [
    {
     "name": "stdout",
     "output_type": "stream",
     "text": [
      "Defaulting to user installation because normal site-packages is not writeable\n",
      "Collecting pytrends\n",
      "  Obtaining dependency information for pytrends from https://files.pythonhosted.org/packages/68/ba/7a24a3723c790000faf880505ff1cc46f4d29f46dd353037938a070c4d23/pytrends-4.9.2-py3-none-any.whl.metadata\n",
      "  Downloading pytrends-4.9.2-py3-none-any.whl.metadata (13 kB)\n",
      "Requirement already satisfied: requests>=2.0 in c:\\programdata\\anaconda3\\lib\\site-packages (from pytrends) (2.31.0)\n",
      "Requirement already satisfied: pandas>=0.25 in c:\\users\\padma\\appdata\\roaming\\python\\python311\\site-packages (from pytrends) (1.5.3)\n",
      "Requirement already satisfied: lxml in c:\\programdata\\anaconda3\\lib\\site-packages (from pytrends) (4.9.3)\n",
      "Requirement already satisfied: python-dateutil>=2.8.1 in c:\\programdata\\anaconda3\\lib\\site-packages (from pandas>=0.25->pytrends) (2.8.2)\n",
      "Requirement already satisfied: pytz>=2020.1 in c:\\programdata\\anaconda3\\lib\\site-packages (from pandas>=0.25->pytrends) (2023.3.post1)\n",
      "Requirement already satisfied: numpy>=1.21.0 in c:\\programdata\\anaconda3\\lib\\site-packages (from pandas>=0.25->pytrends) (1.24.3)\n",
      "Requirement already satisfied: charset-normalizer<4,>=2 in c:\\programdata\\anaconda3\\lib\\site-packages (from requests>=2.0->pytrends) (2.0.4)\n",
      "Requirement already satisfied: idna<4,>=2.5 in c:\\users\\padma\\appdata\\roaming\\python\\python311\\site-packages (from requests>=2.0->pytrends) (2.10)\n",
      "Requirement already satisfied: urllib3<3,>=1.21.1 in c:\\programdata\\anaconda3\\lib\\site-packages (from requests>=2.0->pytrends) (1.26.16)\n",
      "Requirement already satisfied: certifi>=2017.4.17 in c:\\programdata\\anaconda3\\lib\\site-packages (from requests>=2.0->pytrends) (2023.7.22)\n",
      "Requirement already satisfied: six>=1.5 in c:\\programdata\\anaconda3\\lib\\site-packages (from python-dateutil>=2.8.1->pandas>=0.25->pytrends) (1.16.0)\n",
      "Downloading pytrends-4.9.2-py3-none-any.whl (15 kB)\n",
      "Installing collected packages: pytrends\n",
      "Successfully installed pytrends-4.9.2\n"
     ]
    }
   ],
   "source": [
    "!pip install pytrends"
   ]
  },
  {
   "cell_type": "code",
   "execution_count": 2,
   "id": "0494edb4",
   "metadata": {},
   "outputs": [],
   "source": [
    "import pandas as pd \n",
    "from pytrends.request import TrendReq \n",
    "import matplotlib.pyplot as plt \n",
    "Trending_topics = TrendReq(hl='en-US', tz=360)"
   ]
  },
  {
   "cell_type": "code",
   "execution_count": 3,
   "id": "3318e55b",
   "metadata": {},
   "outputs": [],
   "source": [
    "kw_list=[\"Cloud Computing\"] \n",
    "Trending_topics.build_payload(kw_list,cat=0, timeframe='today 12-m')"
   ]
  },
  {
   "cell_type": "code",
   "execution_count": 4,
   "id": "89c20c7b",
   "metadata": {},
   "outputs": [
    {
     "name": "stdout",
     "output_type": "stream",
     "text": [
      "            Cloud Computing  isPartial\n",
      "date                                  \n",
      "2023-12-03              100      False\n",
      "2023-12-10               94      False\n",
      "2023-04-30               88      False\n",
      "2023-11-26               88      False\n",
      "2024-01-07               88      False\n",
      "2024-01-21               87      False\n",
      "2023-09-03               87      False\n",
      "2023-05-21               87      False\n",
      "2023-04-23               86      False\n",
      "2023-10-08               85      False\n"
     ]
    }
   ],
   "source": [
    "Trending_topics.build_payload(kw_list=[\"Cloud Computing\"], \n",
    "\t\t\t\t\t\t\tcat=0, timeframe='today 12-m') \n",
    "data = Trending_topics.interest_over_time() \n",
    "data = data.sort_values(by=\"Cloud Computing\", ascending = False) \n",
    "data = data.head(10) \n",
    "print(data)"
   ]
  },
  {
   "cell_type": "code",
   "execution_count": 6,
   "id": "5d3845cb",
   "metadata": {},
   "outputs": [
    {
     "ename": "NotImplementedError",
     "evalue": "This method has been removed for incorrectness. It will be removed completely in v5.\nIf you'd like similar functionality, please try implementing it yourself and consider submitting a pull request to add it to pytrends.\n          \nThere is discussion at:\nhttps://github.com/GeneralMills/pytrends/pull/542",
     "output_type": "error",
     "traceback": [
      "\u001b[1;31m---------------------------------------------------------------------------\u001b[0m",
      "\u001b[1;31mNotImplementedError\u001b[0m                       Traceback (most recent call last)",
      "Cell \u001b[1;32mIn[6], line 3\u001b[0m\n\u001b[0;32m      1\u001b[0m kw_list \u001b[38;5;241m=\u001b[39m [\u001b[38;5;124m\"\u001b[39m\u001b[38;5;124mCloud Computing\u001b[39m\u001b[38;5;124m\"\u001b[39m] \n\u001b[0;32m      2\u001b[0m Trending_topics\u001b[38;5;241m.\u001b[39mbuild_payload(kw_list) \n\u001b[1;32m----> 3\u001b[0m data \u001b[38;5;241m=\u001b[39m Trending_topics\u001b[38;5;241m.\u001b[39mget_historical_interest( \n\u001b[0;32m      4\u001b[0m   kw_list, year_start\u001b[38;5;241m=\u001b[39m\u001b[38;5;241m2018\u001b[39m, month_start\u001b[38;5;241m=\u001b[39m\u001b[38;5;241m1\u001b[39m, day_start\u001b[38;5;241m=\u001b[39m\u001b[38;5;241m1\u001b[39m, \n\u001b[0;32m      5\u001b[0m   hour_start\u001b[38;5;241m=\u001b[39m\u001b[38;5;241m0\u001b[39m, year_end\u001b[38;5;241m=\u001b[39m\u001b[38;5;241m2018\u001b[39m, month_end\u001b[38;5;241m=\u001b[39m\u001b[38;5;241m2\u001b[39m, day_end\u001b[38;5;241m=\u001b[39m\u001b[38;5;241m1\u001b[39m, \n\u001b[0;32m      6\u001b[0m   hour_end\u001b[38;5;241m=\u001b[39m\u001b[38;5;241m0\u001b[39m, cat\u001b[38;5;241m=\u001b[39m\u001b[38;5;241m0\u001b[39m, geo\u001b[38;5;241m=\u001b[39m\u001b[38;5;124m'\u001b[39m\u001b[38;5;124m'\u001b[39m, gprop\u001b[38;5;241m=\u001b[39m\u001b[38;5;124m'\u001b[39m\u001b[38;5;124m'\u001b[39m, sleep\u001b[38;5;241m=\u001b[39m\u001b[38;5;241m0\u001b[39m) \n\u001b[0;32m      7\u001b[0m data \u001b[38;5;241m=\u001b[39m data\u001b[38;5;241m.\u001b[39msort_values(by\u001b[38;5;241m=\u001b[39m\u001b[38;5;124m\"\u001b[39m\u001b[38;5;124mCloud Computing\u001b[39m\u001b[38;5;124m\"\u001b[39m, ascending \u001b[38;5;241m=\u001b[39m \u001b[38;5;28;01mFalse\u001b[39;00m) \n\u001b[0;32m      8\u001b[0m data \u001b[38;5;241m=\u001b[39m data\u001b[38;5;241m.\u001b[39mhead(\u001b[38;5;241m10\u001b[39m) \n",
      "File \u001b[1;32m~\\AppData\\Roaming\\Python\\Python311\\site-packages\\pytrends\\request.py:588\u001b[0m, in \u001b[0;36mTrendReq.get_historical_interest\u001b[1;34m(self, *args, **kwargs)\u001b[0m\n\u001b[0;32m    587\u001b[0m     \u001b[38;5;28;01mdef\u001b[39;00m \u001b[38;5;21mget_historical_interest\u001b[39m(\u001b[38;5;28mself\u001b[39m, \u001b[38;5;241m*\u001b[39margs, \u001b[38;5;241m*\u001b[39m\u001b[38;5;241m*\u001b[39mkwargs):\n\u001b[1;32m--> 588\u001b[0m         \u001b[38;5;28;01mraise\u001b[39;00m \u001b[38;5;167;01mNotImplementedError\u001b[39;00m(\n\u001b[0;32m    589\u001b[0m \u001b[38;5;250m            \u001b[39m\u001b[38;5;124;03m\"\"\"This method has been removed for incorrectness. It will be removed completely in v5.\u001b[39;00m\n\u001b[0;32m    590\u001b[0m \u001b[38;5;124;03mIf you'd like similar functionality, please try implementing it yourself and consider submitting a pull request to add it to pytrends.\u001b[39;00m\n\u001b[0;32m    591\u001b[0m \u001b[38;5;124;03m          \u001b[39;00m\n\u001b[0;32m    592\u001b[0m \u001b[38;5;124;03mThere is discussion at:\u001b[39;00m\n\u001b[0;32m    593\u001b[0m \u001b[38;5;124;03mhttps://github.com/GeneralMills/pytrends/pull/542\"\"\"\u001b[39;00m\n\u001b[0;32m    594\u001b[0m         )\n",
      "\u001b[1;31mNotImplementedError\u001b[0m: This method has been removed for incorrectness. It will be removed completely in v5.\nIf you'd like similar functionality, please try implementing it yourself and consider submitting a pull request to add it to pytrends.\n          \nThere is discussion at:\nhttps://github.com/GeneralMills/pytrends/pull/542"
     ]
    }
   ],
   "source": [
    "kw_list = [\"Cloud Computing\"] \n",
    "Trending_topics.build_payload(kw_list) \n",
    "data = Trending_topics.get_historical_interest( \n",
    "  kw_list, year_start=2018, month_start=1, day_start=1, \n",
    "  hour_start=0, year_end=2018, month_end=2, day_end=1, \n",
    "  hour_end=0, cat=0, geo='', gprop='', sleep=0) \n",
    "data = data.sort_values(by=\"Cloud Computing\", ascending = False) \n",
    "data = data.head(10) \n",
    "print(data)"
   ]
  },
  {
   "cell_type": "code",
   "execution_count": 7,
   "id": "6aee5ef5",
   "metadata": {},
   "outputs": [
    {
     "name": "stdout",
     "output_type": "stream",
     "text": [
      "           Cloud Computing\n",
      "geoName                   \n",
      "Ethiopia               100\n",
      "Zimbabwe                84\n",
      "India                   58\n",
      "Cameroon                56\n",
      "Nepal                   55\n",
      "Kenya                   45\n",
      "Sri Lanka               37\n",
      "Ghana                   37\n",
      "Uganda                  35\n",
      "Pakistan                33\n"
     ]
    }
   ],
   "source": [
    "data = Trending_topics.interest_by_region() \n",
    "data = data.sort_values(by=\"Cloud Computing\", \n",
    "\t\t\t\t\t\tascending = False) \n",
    "data = data.head(10) \n",
    "print(data)\n"
   ]
  },
  {
   "cell_type": "code",
   "execution_count": 8,
   "id": "65bddc6e",
   "metadata": {},
   "outputs": [
    {
     "data": {
      "image/png": "[encoded data removed]",
      "text/plain": [
       "<Figure size 1000x500 with 1 Axes>"
      ]
     },
     "metadata": {},
     "output_type": "display_data"
    }
   ],
   "source": [
    "data.reset_index().plot(x='geoName', y='Cloud Computing', \n",
    "\t\t\t\t\t\tfigsize=(10,5), kind=\"bar\") \n",
    "plt.style.use('fivethirtyeight') \n",
    "plt.show()\n"
   ]
  },
  {
   "cell_type": "code",
   "execution_count": 9,
   "id": "98adb57b",
   "metadata": {},
   "outputs": [
    {
     "data": {
      "text/html": [
       "<div>\n",
       "<style scoped>\n",
       "    .dataframe tbody tr th:only-of-type {\n",
       "        vertical-align: middle;\n",
       "    }\n",
       "\n",
       "    .dataframe tbody tr th {\n",
       "        vertical-align: top;\n",
       "    }\n",
       "\n",
       "    .dataframe thead th {\n",
       "        text-align: right;\n",
       "    }\n",
       "</style>\n",
       "<table border=\"1\" class=\"dataframe\">\n",
       "  <thead>\n",
       "    <tr style=\"text-align: right;\">\n",
       "      <th></th>\n",
       "      <th>title</th>\n",
       "      <th>exploreQuery</th>\n",
       "    </tr>\n",
       "  </thead>\n",
       "  <tbody>\n",
       "    <tr>\n",
       "      <th>0</th>\n",
       "      <td>Coronavirus</td>\n",
       "      <td></td>\n",
       "    </tr>\n",
       "    <tr>\n",
       "      <th>1</th>\n",
       "      <td>Election results</td>\n",
       "      <td></td>\n",
       "    </tr>\n",
       "    <tr>\n",
       "      <th>2</th>\n",
       "      <td>Kobe Bryant</td>\n",
       "      <td></td>\n",
       "    </tr>\n",
       "    <tr>\n",
       "      <th>3</th>\n",
       "      <td>Zoom</td>\n",
       "      <td></td>\n",
       "    </tr>\n",
       "    <tr>\n",
       "      <th>4</th>\n",
       "      <td>IPL</td>\n",
       "      <td></td>\n",
       "    </tr>\n",
       "    <tr>\n",
       "      <th>5</th>\n",
       "      <td>India vs New Zealand</td>\n",
       "      <td></td>\n",
       "    </tr>\n",
       "    <tr>\n",
       "      <th>6</th>\n",
       "      <td>Coronavirus update</td>\n",
       "      <td></td>\n",
       "    </tr>\n",
       "    <tr>\n",
       "      <th>7</th>\n",
       "      <td>Coronavirus symptoms</td>\n",
       "      <td></td>\n",
       "    </tr>\n",
       "    <tr>\n",
       "      <th>8</th>\n",
       "      <td>Joe Biden</td>\n",
       "      <td></td>\n",
       "    </tr>\n",
       "    <tr>\n",
       "      <th>9</th>\n",
       "      <td>Google Classroom</td>\n",
       "      <td></td>\n",
       "    </tr>\n",
       "  </tbody>\n",
       "</table>\n",
       "</div>"
      ],
      "text/plain": [
       "                  title exploreQuery\n",
       "0           Coronavirus             \n",
       "1      Election results             \n",
       "2           Kobe Bryant             \n",
       "3                  Zoom             \n",
       "4                   IPL             \n",
       "5  India vs New Zealand             \n",
       "6    Coronavirus update             \n",
       "7  Coronavirus symptoms             \n",
       "8             Joe Biden             \n",
       "9      Google Classroom             "
      ]
     },
     "execution_count": 9,
     "metadata": {},
     "output_type": "execute_result"
    }
   ],
   "source": [
    "df = Trending_topics.top_charts(2020, hl='en-US', \n",
    "\t\t\t\t\t\t\t\ttz=300, geo='GLOBAL') \n",
    "df.head(10) \n"
   ]
  },
  {
   "cell_type": "code",
   "execution_count": 10,
   "id": "a60857f0",
   "metadata": {},
   "outputs": [
    {
     "data": {
      "text/plain": [
       "dict_values([{'top':                            query  value\n",
       "0                           what    100\n",
       "1        what is cloud computing     87\n",
       "2                  what is cloud     85\n",
       "3                            the     81\n",
       "4                          which     41\n",
       "5    what is the cloud computing     37\n",
       "6        cloud computing service     35\n",
       "7       cloud computing services     34\n",
       "8                 cloud services     33\n",
       "9                 cloud security     30\n",
       "10        google cloud computing     25\n",
       "11                  google cloud     23\n",
       "12                     aws cloud     23\n",
       "13           cloud computing aws     23\n",
       "14                           aws     23\n",
       "15      cloud computing software     23\n",
       "16       cloud computing meaning     22\n",
       "17        cloud computing system     20\n",
       "18   security in cloud computing     19\n",
       "19    cloud computing technology     18\n",
       "20                virtualization     18\n",
       "21         cloud computing types     18\n",
       "22   services of cloud computing     17\n",
       "23       cloud computing example     16\n",
       "24  cloud computing architecture     16, 'rising':                                         query  value\n",
       "0                      what is edge computing   1700\n",
       "1                         cloud computing etf    650\n",
       "2                         cloud computing mcq    600\n",
       "3                              edge computing    400\n",
       "4                                          ai    400\n",
       "5                           quantum computing    400\n",
       "6                                       which    300\n",
       "7                     paas in cloud computing    250\n",
       "8                     iaas in cloud computing    250\n",
       "9          characteristics of cloud computing    200\n",
       "10                               data science    190\n",
       "11                    saas in cloud computing    190\n",
       "12                             cloud engineer    180\n",
       "13  what is virtualization in cloud computing    170\n",
       "14              hypervisor in cloud computing    160\n",
       "15                what is the cloud computing    150\n",
       "16                                  aws cloud    140\n",
       "17                                        aws    130\n",
       "18                        cloud computing aws    130\n",
       "19                services of cloud computing    120\n",
       "20          virtualization in cloud computing    100\n",
       "21                             types of cloud    100\n",
       "22                    cloud computing example     90\n",
       "23                      cloud computing types     90\n",
       "24                    cloud computing meaning     80}])"
      ]
     },
     "execution_count": 10,
     "metadata": {},
     "output_type": "execute_result"
    }
   ],
   "source": [
    "Trending_topics.build_payload(kw_list=['Cloud Computing']) \n",
    "related_queries = Trending_topics.related_queries() \n",
    "related_queries.values()"
   ]
  },
  {
   "cell_type": "code",
   "execution_count": 11,
   "id": "e63b7bb1",
   "metadata": {},
   "outputs": [
    {
     "data": {
      "text/html": [
       "<div>\n",
       "<style scoped>\n",
       "    .dataframe tbody tr th:only-of-type {\n",
       "        vertical-align: middle;\n",
       "    }\n",
       "\n",
       "    .dataframe tbody tr th {\n",
       "        vertical-align: top;\n",
       "    }\n",
       "\n",
       "    .dataframe thead th {\n",
       "        text-align: right;\n",
       "    }\n",
       "</style>\n",
       "<table border=\"1\" class=\"dataframe\">\n",
       "  <thead>\n",
       "    <tr style=\"text-align: right;\">\n",
       "      <th></th>\n",
       "      <th>title</th>\n",
       "      <th>type</th>\n",
       "    </tr>\n",
       "  </thead>\n",
       "  <tbody>\n",
       "    <tr>\n",
       "      <th>0</th>\n",
       "      <td>Cloud computing</td>\n",
       "      <td>Topic</td>\n",
       "    </tr>\n",
       "    <tr>\n",
       "      <th>1</th>\n",
       "      <td>Cloud computing security</td>\n",
       "      <td>Topic</td>\n",
       "    </tr>\n",
       "    <tr>\n",
       "      <th>2</th>\n",
       "      <td>Alibaba Cloud</td>\n",
       "      <td>Computer software company</td>\n",
       "    </tr>\n",
       "    <tr>\n",
       "      <th>3</th>\n",
       "      <td>Cloud computing</td>\n",
       "      <td>Topic</td>\n",
       "    </tr>\n",
       "    <tr>\n",
       "      <th>4</th>\n",
       "      <td>Cloud computing architecture</td>\n",
       "      <td>Topic</td>\n",
       "    </tr>\n",
       "  </tbody>\n",
       "</table>\n",
       "</div>"
      ],
      "text/plain": [
       "                          title                       type\n",
       "0               Cloud computing                      Topic\n",
       "1      Cloud computing security                      Topic\n",
       "2                 Alibaba Cloud  Computer software company\n",
       "3               Cloud computing                      Topic\n",
       "4  Cloud computing architecture                      Topic"
      ]
     },
     "execution_count": 11,
     "metadata": {},
     "output_type": "execute_result"
    }
   ],
   "source": [
    "keywords = Trending_topics.suggestions( \n",
    "keyword='Cloud Computing') \n",
    "df = pd.DataFrame(keywords) \n",
    "df.drop(columns= 'mid') "
   ]
  }
 ],
 "metadata": {
  "kernelspec": {
   "display_name": "Python 3 (ipykernel)",
   "language": "python",
   "name": "python3"
  },
  "language_info": {
   "codemirror_mode": {
    "name": "ipython",
    "version": 3
   },
   "file_extension": ".py",
   "mimetype": "text/x-python",
   "name": "python",
   "nbconvert_exporter": "python",
   "pygments_lexer": "ipython3",
   "version": "3.11.5"
  }
 },
 "nbformat": 4,
 "nbformat_minor": 5
}
