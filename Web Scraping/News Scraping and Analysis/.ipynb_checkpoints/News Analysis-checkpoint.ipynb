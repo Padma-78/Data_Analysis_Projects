{
 "cells": [
  {
   "cell_type": "code",
   "execution_count": null,
   "id": "d820555e",
   "metadata": {},
   "outputs": [],
   "source": [
    "!pip install newspaper3k\n",
    "!pip install feedparser"
   ]
  },
  {
   "cell_type": "code",
   "execution_count": null,
   "id": "6603bae5",
   "metadata": {},
   "outputs": [],
   "source": [
    "import newspaper\n",
    "import feedparser\n",
    "\n",
    "\n",
    "def scrape_news_from_feed(feed_url):\n",
    "\tarticles = []\n",
    "\tfeed = feedparser.parse(feed_url)\n",
    "\tfor entry in feed.entries:\n",
    "\t\t# create a newspaper article object\n",
    "\t\tarticle = newspaper.Article(entry.link)\n",
    "\t\t# download and parse the article\n",
    "\t\tarticle.download()\n",
    "\t\tarticle.parse()\n",
    "\t\t# extract relevant information\n",
    "\t\tarticles.append({\n",
    "\t\t\t'title': article.title,\n",
    "\t\t\t'author': article.authors,\n",
    "\t\t\t'publish_date': article.publish_date,\n",
    "\t\t\t'content': article.text\n",
    "\t\t})\n",
    "\treturn articles\n",
    "\n",
    "\n",
    "feed_url = 'http://feeds.bbci.co.uk/news/rss.xml'\n",
    "articles = scrape_news_from_feed(feed_url)\n",
    "\n",
    "# print the extracted articles\n",
    "for article in articles:\n",
    "\tprint('Title:', article['title'])\n",
    "\tprint('Author:', article['author'])\n",
    "\tprint('Publish Date:', article['publish_date'])\n",
    "\tprint('Content:', article['content'])\n",
    "\tprint()\n"
   ]
  }
 ],
 "metadata": {
  "kernelspec": {
   "display_name": "Python 3 (ipykernel)",
   "language": "python",
   "name": "python3"
  },
  "language_info": {
   "codemirror_mode": {
    "name": "ipython",
    "version": 3
   },
   "file_extension": ".py",
   "mimetype": "text/x-python",
   "name": "python",
   "nbconvert_exporter": "python",
   "pygments_lexer": "ipython3",
   "version": "3.11.5"
  }
 },
 "nbformat": 4,
 "nbformat_minor": 5
}
