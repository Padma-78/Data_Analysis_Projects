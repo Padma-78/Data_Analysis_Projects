{
 "cells": [
  {
   "cell_type": "code",
   "execution_count": 4,
   "id": "ceda182e",
   "metadata": {},
   "outputs": [
    {
     "ename": "SyntaxError",
     "evalue": "unexpected character after line continuation character (831389763.py, line 5)",
     "output_type": "error",
     "traceback": [
      "\u001b[1;36m  Cell \u001b[1;32mIn[4], line 5\u001b[1;36m\u001b[0m\n\u001b[1;33m    headers = {'user-agent'':'Mozilla/5.0 \\\u001b[0m\n\u001b[1;37m                                           ^\u001b[0m\n\u001b[1;31mSyntaxError\u001b[0m\u001b[1;31m:\u001b[0m unexpected character after line continuation character\n"
     ]
    }
   ],
   "source": [
    "import requests \n",
    "from bs4 import BeautifulSoup \n",
    "import pandas as pd \n",
    "\n",
    "headers = {'user-agent':'Mozilla/5.0 \\ \n",
    "\t\t\t(Windows NT 10.0; Win64; x64) \\ \n",
    "\t\t\tAppleWebKit/537.36 (KHTML, like Gecko) \\ \n",
    "\t\t\tChrome/84.0.4147.105 Safari/537.36} \n",
    "\n",
    "urls = [ \n",
    "\t'https://www.investing.com/equities/nike', \n",
    "\t'https://www.investing.com/equities/coca-cola-co', \n",
    "\t'https://www.investing.com/equities/microsoft-corp', \n",
    "\t'https://www.investing.com/equities/3m-co', \n",
    "\t'https://www.investing.com/equities/american-express', \n",
    "\t'https://www.investing.com/equities/amgen-inc', \n",
    "\t'https://www.investing.com/equities/apple-computer-inc', \n",
    "\t'https://www.investing.com/equities/boeing-co', \n",
    "\t'https://www.investing.com/equities/cisco-sys-inc', \n",
    "\t'https://www.investing.com/equities/goldman-sachs-group', \n",
    "\t'https://www.investing.com/equities/ibm', \n",
    "\t'https://www.investing.com/equities/intel-corp', \n",
    "\t'https://www.investing.com/equities/jp-morgan-chase', \n",
    "\t'https://www.investing.com/equities/mcdonalds', \n",
    "\t'https://www.investing.com/equities/salesforce-com', \n",
    "\t'https://www.investing.com/equities/verizon-communications', \n",
    "\t'https://www.investing.com/equities/visa-inc', \n",
    "\t'https://www.investing.com/equities/wal-mart-stores', \n",
    "\t'https://www.investing.com/equities/disney', \n",
    "\t] \n",
    "\n",
    "\n",
    "all=[] \n",
    "for url in urls: \n",
    "\tpage = requests.get(url,headers=headers) \n",
    "\ttry: \n",
    "\t\tsoup = BeautifulSoup(page.text, 'html.parser') \n",
    "\t\tcompany = soup.find('h1', {'class': \n",
    "\t\t'text-2xl font-semibold \\ \n",
    "\t\tinstrument-header_title__gCaMF \\ \n",
    "\t\tmobile:mb-2'}).text \n",
    "\t\tprice = soup.find('div', {'class': \n",
    "\t\t'instrument-price_instrument-price__xfgbB flex \\ \n",
    "\t\titems-end flex-wrap font-bold'}) \n",
    "\t\t\t.find_all('span')[0].text \n",
    "\t\tchange = soup.find('div', {'class': \n",
    "\t\t'instrument-price_instrument-price__xfgbB\\ \n",
    "\t\t\tflex items-end flex-wrap font-bold'}) \n",
    "\t\t\t\t.find_all('span')[2].text \n",
    "\t\tvolume=soup.find('div',{'class': \n",
    "\t\t\t\t'trading-hours_value__5_NnB'}).text \n",
    "\t\tx=[company,price,change,volume] \n",
    "\t\tall.append(x) \n",
    "\t\t\n",
    "\texcept AttributeError: \n",
    "\tprint(\"Change the Element id\") \n",
    "\n",
    "column_names = [\"Company\", \"Price\", \"Change\",\"Volume\"] \n",
    "df = pd.DataFrame(columns = column_names) \n",
    "for i in all: \n",
    "index=0\n",
    "df.loc[index] = i \n",
    "df.index = df.index + 1\n",
    "df=df.reset_index(drop=True) \n",
    "df.to_excel('stocks.xlsx')\n"
   ]
  },
  {
   "cell_type": "code",
   "execution_count": null,
   "id": "6f330bef",
   "metadata": {},
   "outputs": [],
   "source": []
  }
 ],
 "metadata": {
  "kernelspec": {
   "display_name": "Python 3 (ipykernel)",
   "language": "python",
   "name": "python3"
  },
  "language_info": {
   "codemirror_mode": {
    "name": "ipython",
    "version": 3
   },
   "file_extension": ".py",
   "mimetype": "text/x-python",
   "name": "python",
   "nbconvert_exporter": "python",
   "pygments_lexer": "ipython3",
   "version": "3.11.5"
  }
 },
 "nbformat": 4,
 "nbformat_minor": 5
}
